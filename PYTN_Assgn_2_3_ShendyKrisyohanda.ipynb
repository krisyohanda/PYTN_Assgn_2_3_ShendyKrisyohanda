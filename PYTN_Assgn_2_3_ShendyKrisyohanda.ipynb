{
 "cells": [
  {
   "cell_type": "markdown",
   "metadata": {},
   "source": [
    "# Assignment Python 2 - Statistical Treatment for Retail Datasets"
   ]
  },
  {
   "cell_type": "markdown",
   "metadata": {},
   "source": [
    "**Nama: Shendy Krisyohanda**  \n",
    "**Kode Peserta: PYTN-KS08-21**  \n",
    "***MSIB Batch 3***"
   ]
  },
  {
   "cell_type": "markdown",
   "metadata": {},
   "source": [
    "## Prepping Data"
   ]
  },
  {
   "cell_type": "markdown",
   "metadata": {},
   "source": [
    "Import Pustaka yang dibutuhkan:"
   ]
  },
  {
   "cell_type": "code",
   "execution_count": 737,
   "metadata": {},
   "outputs": [],
   "source": [
    "import math\n",
    "import statistics\n",
    "import numpy as np\n",
    "import scipy.stats\n",
    "import pandas as pd\n",
    "import matplotlib.pyplot as plt\n",
    "from IPython.display import Math, Latex\n",
    "from IPython.core.display import Image\n",
    "import seaborn as sns\n",
    "# settings for seaborn plotting style\n",
    "sns.set(color_codes=True)\n",
    "# settings for seaborn plot sizes\n",
    "sns.set(rc={'figure.figsize':(5,5)})"
   ]
  },
  {
   "cell_type": "markdown",
   "metadata": {},
   "source": [
    "Mengambil dataset nyc-rolling-sales di folder dataset."
   ]
  },
  {
   "cell_type": "code",
   "execution_count": 738,
   "metadata": {},
   "outputs": [],
   "source": [
    "df = pd.read_csv(\"dataset/nyc-rolling-sales.csv\")"
   ]
  },
  {
   "cell_type": "markdown",
   "metadata": {},
   "source": [
    "## Exploratory Data Analysis"
   ]
  },
  {
   "cell_type": "markdown",
   "metadata": {},
   "source": [
    "Menampilkan 5 baris data teratas menggunakan fungsi `head()`."
   ]
  },
  {
   "cell_type": "code",
   "execution_count": 739,
   "metadata": {},
   "outputs": [
    {
     "data": {
      "text/html": [
       "<div>\n",
       "<style scoped>\n",
       "    .dataframe tbody tr th:only-of-type {\n",
       "        vertical-align: middle;\n",
       "    }\n",
       "\n",
       "    .dataframe tbody tr th {\n",
       "        vertical-align: top;\n",
       "    }\n",
       "\n",
       "    .dataframe thead th {\n",
       "        text-align: right;\n",
       "    }\n",
       "</style>\n",
       "<table border=\"1\" class=\"dataframe\">\n",
       "  <thead>\n",
       "    <tr style=\"text-align: right;\">\n",
       "      <th></th>\n",
       "      <th>Unnamed: 0</th>\n",
       "      <th>BOROUGH</th>\n",
       "      <th>NEIGHBORHOOD</th>\n",
       "      <th>BUILDING CLASS CATEGORY</th>\n",
       "      <th>TAX CLASS AT PRESENT</th>\n",
       "      <th>BLOCK</th>\n",
       "      <th>LOT</th>\n",
       "      <th>EASE-MENT</th>\n",
       "      <th>BUILDING CLASS AT PRESENT</th>\n",
       "      <th>ADDRESS</th>\n",
       "      <th>APARTMENT NUMBER</th>\n",
       "      <th>ZIP CODE</th>\n",
       "      <th>RESIDENTIAL UNITS</th>\n",
       "      <th>COMMERCIAL UNITS</th>\n",
       "      <th>TOTAL UNITS</th>\n",
       "      <th>LAND SQUARE FEET</th>\n",
       "      <th>GROSS SQUARE FEET</th>\n",
       "      <th>YEAR BUILT</th>\n",
       "      <th>TAX CLASS AT TIME OF SALE</th>\n",
       "      <th>BUILDING CLASS AT TIME OF SALE</th>\n",
       "      <th>SALE PRICE</th>\n",
       "      <th>SALE DATE</th>\n",
       "    </tr>\n",
       "  </thead>\n",
       "  <tbody>\n",
       "    <tr>\n",
       "      <th>0</th>\n",
       "      <td>4</td>\n",
       "      <td>1</td>\n",
       "      <td>ALPHABET CITY</td>\n",
       "      <td>07 RENTALS - WALKUP APARTMENTS</td>\n",
       "      <td>2A</td>\n",
       "      <td>392</td>\n",
       "      <td>6</td>\n",
       "      <td></td>\n",
       "      <td>C2</td>\n",
       "      <td>153 AVENUE B</td>\n",
       "      <td></td>\n",
       "      <td>10009</td>\n",
       "      <td>5</td>\n",
       "      <td>0</td>\n",
       "      <td>5</td>\n",
       "      <td>1633</td>\n",
       "      <td>6440</td>\n",
       "      <td>1900</td>\n",
       "      <td>2</td>\n",
       "      <td>C2</td>\n",
       "      <td>6625000</td>\n",
       "      <td>2017-07-19 00:00:00</td>\n",
       "    </tr>\n",
       "    <tr>\n",
       "      <th>1</th>\n",
       "      <td>5</td>\n",
       "      <td>1</td>\n",
       "      <td>ALPHABET CITY</td>\n",
       "      <td>07 RENTALS - WALKUP APARTMENTS</td>\n",
       "      <td>2</td>\n",
       "      <td>399</td>\n",
       "      <td>26</td>\n",
       "      <td></td>\n",
       "      <td>C7</td>\n",
       "      <td>234 EAST 4TH   STREET</td>\n",
       "      <td></td>\n",
       "      <td>10009</td>\n",
       "      <td>28</td>\n",
       "      <td>3</td>\n",
       "      <td>31</td>\n",
       "      <td>4616</td>\n",
       "      <td>18690</td>\n",
       "      <td>1900</td>\n",
       "      <td>2</td>\n",
       "      <td>C7</td>\n",
       "      <td>-</td>\n",
       "      <td>2016-12-14 00:00:00</td>\n",
       "    </tr>\n",
       "    <tr>\n",
       "      <th>2</th>\n",
       "      <td>6</td>\n",
       "      <td>1</td>\n",
       "      <td>ALPHABET CITY</td>\n",
       "      <td>07 RENTALS - WALKUP APARTMENTS</td>\n",
       "      <td>2</td>\n",
       "      <td>399</td>\n",
       "      <td>39</td>\n",
       "      <td></td>\n",
       "      <td>C7</td>\n",
       "      <td>197 EAST 3RD   STREET</td>\n",
       "      <td></td>\n",
       "      <td>10009</td>\n",
       "      <td>16</td>\n",
       "      <td>1</td>\n",
       "      <td>17</td>\n",
       "      <td>2212</td>\n",
       "      <td>7803</td>\n",
       "      <td>1900</td>\n",
       "      <td>2</td>\n",
       "      <td>C7</td>\n",
       "      <td>-</td>\n",
       "      <td>2016-12-09 00:00:00</td>\n",
       "    </tr>\n",
       "    <tr>\n",
       "      <th>3</th>\n",
       "      <td>7</td>\n",
       "      <td>1</td>\n",
       "      <td>ALPHABET CITY</td>\n",
       "      <td>07 RENTALS - WALKUP APARTMENTS</td>\n",
       "      <td>2B</td>\n",
       "      <td>402</td>\n",
       "      <td>21</td>\n",
       "      <td></td>\n",
       "      <td>C4</td>\n",
       "      <td>154 EAST 7TH STREET</td>\n",
       "      <td></td>\n",
       "      <td>10009</td>\n",
       "      <td>10</td>\n",
       "      <td>0</td>\n",
       "      <td>10</td>\n",
       "      <td>2272</td>\n",
       "      <td>6794</td>\n",
       "      <td>1913</td>\n",
       "      <td>2</td>\n",
       "      <td>C4</td>\n",
       "      <td>3936272</td>\n",
       "      <td>2016-09-23 00:00:00</td>\n",
       "    </tr>\n",
       "    <tr>\n",
       "      <th>4</th>\n",
       "      <td>8</td>\n",
       "      <td>1</td>\n",
       "      <td>ALPHABET CITY</td>\n",
       "      <td>07 RENTALS - WALKUP APARTMENTS</td>\n",
       "      <td>2A</td>\n",
       "      <td>404</td>\n",
       "      <td>55</td>\n",
       "      <td></td>\n",
       "      <td>C2</td>\n",
       "      <td>301 EAST 10TH   STREET</td>\n",
       "      <td></td>\n",
       "      <td>10009</td>\n",
       "      <td>6</td>\n",
       "      <td>0</td>\n",
       "      <td>6</td>\n",
       "      <td>2369</td>\n",
       "      <td>4615</td>\n",
       "      <td>1900</td>\n",
       "      <td>2</td>\n",
       "      <td>C2</td>\n",
       "      <td>8000000</td>\n",
       "      <td>2016-11-17 00:00:00</td>\n",
       "    </tr>\n",
       "  </tbody>\n",
       "</table>\n",
       "</div>"
      ],
      "text/plain": [
       "   Unnamed: 0  BOROUGH   NEIGHBORHOOD  \\\n",
       "0           4        1  ALPHABET CITY   \n",
       "1           5        1  ALPHABET CITY   \n",
       "2           6        1  ALPHABET CITY   \n",
       "3           7        1  ALPHABET CITY   \n",
       "4           8        1  ALPHABET CITY   \n",
       "\n",
       "                       BUILDING CLASS CATEGORY TAX CLASS AT PRESENT  BLOCK  \\\n",
       "0  07 RENTALS - WALKUP APARTMENTS                                2A    392   \n",
       "1  07 RENTALS - WALKUP APARTMENTS                                 2    399   \n",
       "2  07 RENTALS - WALKUP APARTMENTS                                 2    399   \n",
       "3  07 RENTALS - WALKUP APARTMENTS                                2B    402   \n",
       "4  07 RENTALS - WALKUP APARTMENTS                                2A    404   \n",
       "\n",
       "   LOT EASE-MENT BUILDING CLASS AT PRESENT                 ADDRESS  \\\n",
       "0    6                                  C2            153 AVENUE B   \n",
       "1   26                                  C7   234 EAST 4TH   STREET   \n",
       "2   39                                  C7   197 EAST 3RD   STREET   \n",
       "3   21                                  C4     154 EAST 7TH STREET   \n",
       "4   55                                  C2  301 EAST 10TH   STREET   \n",
       "\n",
       "  APARTMENT NUMBER  ZIP CODE  RESIDENTIAL UNITS  COMMERCIAL UNITS  \\\n",
       "0                      10009                  5                 0   \n",
       "1                      10009                 28                 3   \n",
       "2                      10009                 16                 1   \n",
       "3                      10009                 10                 0   \n",
       "4                      10009                  6                 0   \n",
       "\n",
       "   TOTAL UNITS LAND SQUARE FEET GROSS SQUARE FEET  YEAR BUILT  \\\n",
       "0            5             1633              6440        1900   \n",
       "1           31             4616             18690        1900   \n",
       "2           17             2212              7803        1900   \n",
       "3           10             2272              6794        1913   \n",
       "4            6             2369              4615        1900   \n",
       "\n",
       "   TAX CLASS AT TIME OF SALE BUILDING CLASS AT TIME OF SALE SALE PRICE  \\\n",
       "0                          2                             C2    6625000   \n",
       "1                          2                             C7        -     \n",
       "2                          2                             C7        -     \n",
       "3                          2                             C4    3936272   \n",
       "4                          2                             C2    8000000   \n",
       "\n",
       "             SALE DATE  \n",
       "0  2017-07-19 00:00:00  \n",
       "1  2016-12-14 00:00:00  \n",
       "2  2016-12-09 00:00:00  \n",
       "3  2016-09-23 00:00:00  \n",
       "4  2016-11-17 00:00:00  "
      ]
     },
     "execution_count": 739,
     "metadata": {},
     "output_type": "execute_result"
    }
   ],
   "source": [
    "pd.set_option(\"display.max.columns\", None)\n",
    "df.head()"
   ]
  },
  {
   "cell_type": "markdown",
   "metadata": {},
   "source": [
    "Menampilkan 5 baris data terbawah menggunakan fungsi `tail()`."
   ]
  },
  {
   "cell_type": "code",
   "execution_count": 740,
   "metadata": {},
   "outputs": [
    {
     "data": {
      "text/html": [
       "<div>\n",
       "<style scoped>\n",
       "    .dataframe tbody tr th:only-of-type {\n",
       "        vertical-align: middle;\n",
       "    }\n",
       "\n",
       "    .dataframe tbody tr th {\n",
       "        vertical-align: top;\n",
       "    }\n",
       "\n",
       "    .dataframe thead th {\n",
       "        text-align: right;\n",
       "    }\n",
       "</style>\n",
       "<table border=\"1\" class=\"dataframe\">\n",
       "  <thead>\n",
       "    <tr style=\"text-align: right;\">\n",
       "      <th></th>\n",
       "      <th>Unnamed: 0</th>\n",
       "      <th>BOROUGH</th>\n",
       "      <th>NEIGHBORHOOD</th>\n",
       "      <th>BUILDING CLASS CATEGORY</th>\n",
       "      <th>TAX CLASS AT PRESENT</th>\n",
       "      <th>BLOCK</th>\n",
       "      <th>LOT</th>\n",
       "      <th>EASE-MENT</th>\n",
       "      <th>BUILDING CLASS AT PRESENT</th>\n",
       "      <th>ADDRESS</th>\n",
       "      <th>APARTMENT NUMBER</th>\n",
       "      <th>ZIP CODE</th>\n",
       "      <th>RESIDENTIAL UNITS</th>\n",
       "      <th>COMMERCIAL UNITS</th>\n",
       "      <th>TOTAL UNITS</th>\n",
       "      <th>LAND SQUARE FEET</th>\n",
       "      <th>GROSS SQUARE FEET</th>\n",
       "      <th>YEAR BUILT</th>\n",
       "      <th>TAX CLASS AT TIME OF SALE</th>\n",
       "      <th>BUILDING CLASS AT TIME OF SALE</th>\n",
       "      <th>SALE PRICE</th>\n",
       "      <th>SALE DATE</th>\n",
       "    </tr>\n",
       "  </thead>\n",
       "  <tbody>\n",
       "    <tr>\n",
       "      <th>84543</th>\n",
       "      <td>8409</td>\n",
       "      <td>5</td>\n",
       "      <td>WOODROW</td>\n",
       "      <td>02 TWO FAMILY DWELLINGS</td>\n",
       "      <td>1</td>\n",
       "      <td>7349</td>\n",
       "      <td>34</td>\n",
       "      <td></td>\n",
       "      <td>B9</td>\n",
       "      <td>37 QUAIL LANE</td>\n",
       "      <td></td>\n",
       "      <td>10309</td>\n",
       "      <td>2</td>\n",
       "      <td>0</td>\n",
       "      <td>2</td>\n",
       "      <td>2400</td>\n",
       "      <td>2575</td>\n",
       "      <td>1998</td>\n",
       "      <td>1</td>\n",
       "      <td>B9</td>\n",
       "      <td>450000</td>\n",
       "      <td>2016-11-28 00:00:00</td>\n",
       "    </tr>\n",
       "    <tr>\n",
       "      <th>84544</th>\n",
       "      <td>8410</td>\n",
       "      <td>5</td>\n",
       "      <td>WOODROW</td>\n",
       "      <td>02 TWO FAMILY DWELLINGS</td>\n",
       "      <td>1</td>\n",
       "      <td>7349</td>\n",
       "      <td>78</td>\n",
       "      <td></td>\n",
       "      <td>B9</td>\n",
       "      <td>32 PHEASANT LANE</td>\n",
       "      <td></td>\n",
       "      <td>10309</td>\n",
       "      <td>2</td>\n",
       "      <td>0</td>\n",
       "      <td>2</td>\n",
       "      <td>2498</td>\n",
       "      <td>2377</td>\n",
       "      <td>1998</td>\n",
       "      <td>1</td>\n",
       "      <td>B9</td>\n",
       "      <td>550000</td>\n",
       "      <td>2017-04-21 00:00:00</td>\n",
       "    </tr>\n",
       "    <tr>\n",
       "      <th>84545</th>\n",
       "      <td>8411</td>\n",
       "      <td>5</td>\n",
       "      <td>WOODROW</td>\n",
       "      <td>02 TWO FAMILY DWELLINGS</td>\n",
       "      <td>1</td>\n",
       "      <td>7351</td>\n",
       "      <td>60</td>\n",
       "      <td></td>\n",
       "      <td>B2</td>\n",
       "      <td>49 PITNEY AVENUE</td>\n",
       "      <td></td>\n",
       "      <td>10309</td>\n",
       "      <td>2</td>\n",
       "      <td>0</td>\n",
       "      <td>2</td>\n",
       "      <td>4000</td>\n",
       "      <td>1496</td>\n",
       "      <td>1925</td>\n",
       "      <td>1</td>\n",
       "      <td>B2</td>\n",
       "      <td>460000</td>\n",
       "      <td>2017-07-05 00:00:00</td>\n",
       "    </tr>\n",
       "    <tr>\n",
       "      <th>84546</th>\n",
       "      <td>8412</td>\n",
       "      <td>5</td>\n",
       "      <td>WOODROW</td>\n",
       "      <td>22 STORE BUILDINGS</td>\n",
       "      <td>4</td>\n",
       "      <td>7100</td>\n",
       "      <td>28</td>\n",
       "      <td></td>\n",
       "      <td>K6</td>\n",
       "      <td>2730 ARTHUR KILL ROAD</td>\n",
       "      <td></td>\n",
       "      <td>10309</td>\n",
       "      <td>0</td>\n",
       "      <td>7</td>\n",
       "      <td>7</td>\n",
       "      <td>208033</td>\n",
       "      <td>64117</td>\n",
       "      <td>2001</td>\n",
       "      <td>4</td>\n",
       "      <td>K6</td>\n",
       "      <td>11693337</td>\n",
       "      <td>2016-12-21 00:00:00</td>\n",
       "    </tr>\n",
       "    <tr>\n",
       "      <th>84547</th>\n",
       "      <td>8413</td>\n",
       "      <td>5</td>\n",
       "      <td>WOODROW</td>\n",
       "      <td>35 INDOOR PUBLIC AND CULTURAL FACILITIES</td>\n",
       "      <td>4</td>\n",
       "      <td>7105</td>\n",
       "      <td>679</td>\n",
       "      <td></td>\n",
       "      <td>P9</td>\n",
       "      <td>155 CLAY PIT ROAD</td>\n",
       "      <td></td>\n",
       "      <td>10309</td>\n",
       "      <td>0</td>\n",
       "      <td>1</td>\n",
       "      <td>1</td>\n",
       "      <td>10796</td>\n",
       "      <td>2400</td>\n",
       "      <td>2006</td>\n",
       "      <td>4</td>\n",
       "      <td>P9</td>\n",
       "      <td>69300</td>\n",
       "      <td>2016-10-27 00:00:00</td>\n",
       "    </tr>\n",
       "  </tbody>\n",
       "</table>\n",
       "</div>"
      ],
      "text/plain": [
       "       Unnamed: 0  BOROUGH NEIGHBORHOOD  \\\n",
       "84543        8409        5      WOODROW   \n",
       "84544        8410        5      WOODROW   \n",
       "84545        8411        5      WOODROW   \n",
       "84546        8412        5      WOODROW   \n",
       "84547        8413        5      WOODROW   \n",
       "\n",
       "                           BUILDING CLASS CATEGORY TAX CLASS AT PRESENT  \\\n",
       "84543  02 TWO FAMILY DWELLINGS                                        1   \n",
       "84544  02 TWO FAMILY DWELLINGS                                        1   \n",
       "84545  02 TWO FAMILY DWELLINGS                                        1   \n",
       "84546  22 STORE BUILDINGS                                             4   \n",
       "84547  35 INDOOR PUBLIC AND CULTURAL FACILITIES                       4   \n",
       "\n",
       "       BLOCK  LOT EASE-MENT BUILDING CLASS AT PRESENT                ADDRESS  \\\n",
       "84543   7349   34                                  B9          37 QUAIL LANE   \n",
       "84544   7349   78                                  B9       32 PHEASANT LANE   \n",
       "84545   7351   60                                  B2       49 PITNEY AVENUE   \n",
       "84546   7100   28                                  K6  2730 ARTHUR KILL ROAD   \n",
       "84547   7105  679                                  P9      155 CLAY PIT ROAD   \n",
       "\n",
       "      APARTMENT NUMBER  ZIP CODE  RESIDENTIAL UNITS  COMMERCIAL UNITS  \\\n",
       "84543                      10309                  2                 0   \n",
       "84544                      10309                  2                 0   \n",
       "84545                      10309                  2                 0   \n",
       "84546                      10309                  0                 7   \n",
       "84547                      10309                  0                 1   \n",
       "\n",
       "       TOTAL UNITS LAND SQUARE FEET GROSS SQUARE FEET  YEAR BUILT  \\\n",
       "84543            2             2400              2575        1998   \n",
       "84544            2             2498              2377        1998   \n",
       "84545            2             4000              1496        1925   \n",
       "84546            7           208033             64117        2001   \n",
       "84547            1            10796              2400        2006   \n",
       "\n",
       "       TAX CLASS AT TIME OF SALE BUILDING CLASS AT TIME OF SALE SALE PRICE  \\\n",
       "84543                          1                             B9     450000   \n",
       "84544                          1                             B9     550000   \n",
       "84545                          1                             B2     460000   \n",
       "84546                          4                             K6   11693337   \n",
       "84547                          4                             P9      69300   \n",
       "\n",
       "                 SALE DATE  \n",
       "84543  2016-11-28 00:00:00  \n",
       "84544  2017-04-21 00:00:00  \n",
       "84545  2017-07-05 00:00:00  \n",
       "84546  2016-12-21 00:00:00  \n",
       "84547  2016-10-27 00:00:00  "
      ]
     },
     "execution_count": 740,
     "metadata": {},
     "output_type": "execute_result"
    }
   ],
   "source": [
    "df.tail()"
   ]
  },
  {
   "cell_type": "markdown",
   "metadata": {},
   "source": [
    "Mengetahui jumlah total baris dan kolom dalam kumpulan data menggunakan `.shape`."
   ]
  },
  {
   "cell_type": "code",
   "execution_count": 741,
   "metadata": {},
   "outputs": [
    {
     "data": {
      "text/plain": [
       "(84548, 22)"
      ]
     },
     "execution_count": 741,
     "metadata": {},
     "output_type": "execute_result"
    }
   ],
   "source": [
    "df.shape #(row, column)"
   ]
  },
  {
   "cell_type": "markdown",
   "metadata": {},
   "source": [
    "Terdapat **84.548 baris** dan **22 kolom** dalam dataset/kumpulan data.  "
   ]
  },
  {
   "cell_type": "markdown",
   "metadata": {},
   "source": [
    "Menghapus beberapa kolom yang tidak digunakan dan memiliki banyak nilai NaN menggunakan `drop()`."
   ]
  },
  {
   "cell_type": "code",
   "execution_count": 742,
   "metadata": {},
   "outputs": [],
   "source": [
    "drop_column = ['Unnamed: 0', 'EASE-MENT', 'APARTMENT NUMBER']\n",
    "df.drop(drop_column, axis=1, inplace=True)"
   ]
  },
  {
   "cell_type": "markdown",
   "metadata": {},
   "source": [
    "Memeriksa data yang duplikat pada setiap kolom."
   ]
  },
  {
   "cell_type": "code",
   "execution_count": 743,
   "metadata": {},
   "outputs": [
    {
     "data": {
      "text/plain": [
       "765"
      ]
     },
     "execution_count": 743,
     "metadata": {},
     "output_type": "execute_result"
    }
   ],
   "source": [
    "sum(df.duplicated(df.columns))"
   ]
  },
  {
   "cell_type": "markdown",
   "metadata": {},
   "source": [
    "Hapus duplikat dan periksa apakah berhasil?"
   ]
  },
  {
   "cell_type": "code",
   "execution_count": 744,
   "metadata": {},
   "outputs": [
    {
     "data": {
      "text/plain": [
       "0"
      ]
     },
     "execution_count": 744,
     "metadata": {},
     "output_type": "execute_result"
    }
   ],
   "source": [
    "df = df.drop_duplicates(df.columns, keep='last')\n",
    "sum(df.duplicated(df.columns))"
   ]
  },
  {
   "cell_type": "markdown",
   "metadata": {},
   "source": [
    "Data duplikat telah terhapus.  \n",
    "Mengetahui kolom dan tipe data yang sesuai, dan menemukan apakah kolom tersebut berisi nilai null atau tidak menggunakan `info()`."
   ]
  },
  {
   "cell_type": "code",
   "execution_count": 745,
   "metadata": {},
   "outputs": [
    {
     "name": "stdout",
     "output_type": "stream",
     "text": [
      "<class 'pandas.core.frame.DataFrame'>\n",
      "Int64Index: 83783 entries, 0 to 84547\n",
      "Data columns (total 19 columns):\n",
      " #   Column                          Non-Null Count  Dtype \n",
      "---  ------                          --------------  ----- \n",
      " 0   BOROUGH                         83783 non-null  int64 \n",
      " 1   NEIGHBORHOOD                    83783 non-null  object\n",
      " 2   BUILDING CLASS CATEGORY         83783 non-null  object\n",
      " 3   TAX CLASS AT PRESENT            83783 non-null  object\n",
      " 4   BLOCK                           83783 non-null  int64 \n",
      " 5   LOT                             83783 non-null  int64 \n",
      " 6   BUILDING CLASS AT PRESENT       83783 non-null  object\n",
      " 7   ADDRESS                         83783 non-null  object\n",
      " 8   ZIP CODE                        83783 non-null  int64 \n",
      " 9   RESIDENTIAL UNITS               83783 non-null  int64 \n",
      " 10  COMMERCIAL UNITS                83783 non-null  int64 \n",
      " 11  TOTAL UNITS                     83783 non-null  int64 \n",
      " 12  LAND SQUARE FEET                83783 non-null  object\n",
      " 13  GROSS SQUARE FEET               83783 non-null  object\n",
      " 14  YEAR BUILT                      83783 non-null  int64 \n",
      " 15  TAX CLASS AT TIME OF SALE       83783 non-null  int64 \n",
      " 16  BUILDING CLASS AT TIME OF SALE  83783 non-null  object\n",
      " 17  SALE PRICE                      83783 non-null  object\n",
      " 18  SALE DATE                       83783 non-null  object\n",
      "dtypes: int64(9), object(10)\n",
      "memory usage: 12.8+ MB\n"
     ]
    }
   ],
   "source": [
    "df.info()"
   ]
  },
  {
   "cell_type": "markdown",
   "metadata": {},
   "source": [
    "Menentukan jenis tipe data yang sesuai pada setiap kolom menggunakan `pandas`."
   ]
  },
  {
   "cell_type": "code",
   "execution_count": 746,
   "metadata": {},
   "outputs": [],
   "source": [
    "#Let's convert some of the columns to appropriate datatype\n",
    "\n",
    "df['TAX CLASS AT TIME OF SALE'] = df['TAX CLASS AT TIME OF SALE'].astype('category')\n",
    "df['TAX CLASS AT PRESENT'] = df['TAX CLASS AT PRESENT'].astype('category')\n",
    "df['LAND SQUARE FEET'] = pd.to_numeric(df['LAND SQUARE FEET'], errors='coerce')\n",
    "df['GROSS SQUARE FEET']= pd.to_numeric(df['GROSS SQUARE FEET'], errors='coerce')\n",
    "df['SALE DATE'] = pd.to_datetime(df['SALE DATE'], errors='coerce')\n",
    "df['SALE PRICE'] = pd.to_numeric(df['SALE PRICE'], errors='coerce')\n",
    "df['BOROUGH'] = df['BOROUGH'].astype('category')"
   ]
  },
  {
   "cell_type": "markdown",
   "metadata": {},
   "source": [
    "Memeriksa missing values pada setiap kolom."
   ]
  },
  {
   "cell_type": "code",
   "execution_count": 747,
   "metadata": {},
   "outputs": [
    {
     "data": {
      "text/plain": [
       "Index(['LAND SQUARE FEET', 'GROSS SQUARE FEET', 'SALE PRICE'], dtype='object')"
      ]
     },
     "execution_count": 747,
     "metadata": {},
     "output_type": "execute_result"
    }
   ],
   "source": [
    "#checking missing values\n",
    "\n",
    "df.columns[df.isnull().any()]"
   ]
  },
  {
   "cell_type": "markdown",
   "metadata": {},
   "source": [
    "Terdapat 3 kolom yang memiliki nilai null yakni `'LAND SQUARE FEET', 'GROSS SQUARE FEET', 'SALE PRICE'`."
   ]
  },
  {
   "cell_type": "code",
   "execution_count": 748,
   "metadata": {},
   "outputs": [
    {
     "data": {
      "text/plain": [
       "SALE PRICE          0.17\n",
       "LAND SQUARE FEET    0.31\n",
       "GROSS SQUARE FEET   0.33\n",
       "dtype: float64"
      ]
     },
     "execution_count": 748,
     "metadata": {},
     "output_type": "execute_result"
    }
   ],
   "source": [
    "miss=df.isnull().sum()/len(df)\n",
    "miss=miss[miss>0]\n",
    "miss.sort_values(inplace=True)\n",
    "miss"
   ]
  },
  {
   "cell_type": "markdown",
   "metadata": {},
   "source": [
    "Mengatasi missing values dapat dengan menghapus baris nilai yang hilang atau dapat mengisinya dengan rata-rata(mean), median(nilai tengah), atau relasi lainnya.\n",
    "\n",
    "Untuk saat ini, isi dengan nilai rata-rata."
   ]
  },
  {
   "cell_type": "code",
   "execution_count": 749,
   "metadata": {},
   "outputs": [],
   "source": [
    "# For time being, let's fill these up with mean values.\n",
    "df['LAND SQUARE FEET']=df['LAND SQUARE FEET'].fillna(df['LAND SQUARE FEET'].mean())\n",
    "df['GROSS SQUARE FEET']=df['GROSS SQUARE FEET'].fillna(df['GROSS SQUARE FEET'].mean())"
   ]
  },
  {
   "cell_type": "markdown",
   "metadata": {},
   "source": [
    "Memeriksa missing values kolom land square feet dan gross square feet."
   ]
  },
  {
   "cell_type": "code",
   "execution_count": 750,
   "metadata": {},
   "outputs": [
    {
     "data": {
      "text/plain": [
       "BOROUGH                               0\n",
       "NEIGHBORHOOD                          0\n",
       "BUILDING CLASS CATEGORY               0\n",
       "TAX CLASS AT PRESENT                  0\n",
       "BLOCK                                 0\n",
       "LOT                                   0\n",
       "BUILDING CLASS AT PRESENT             0\n",
       "ADDRESS                               0\n",
       "ZIP CODE                              0\n",
       "RESIDENTIAL UNITS                     0\n",
       "COMMERCIAL UNITS                      0\n",
       "TOTAL UNITS                           0\n",
       "LAND SQUARE FEET                      0\n",
       "GROSS SQUARE FEET                     0\n",
       "YEAR BUILT                            0\n",
       "TAX CLASS AT TIME OF SALE             0\n",
       "BUILDING CLASS AT TIME OF SALE        0\n",
       "SALE PRICE                        14176\n",
       "SALE DATE                             0\n",
       "dtype: int64"
      ]
     },
     "execution_count": 750,
     "metadata": {},
     "output_type": "execute_result"
    }
   ],
   "source": [
    "df.isna().sum()"
   ]
  },
  {
   "cell_type": "markdown",
   "metadata": {},
   "source": [
    "Kedua kolom sudah tidak memiliki missing values, selanjutnya hapus missing values pada kolom sale price menggunakan `dropna()`."
   ]
  },
  {
   "cell_type": "code",
   "execution_count": 751,
   "metadata": {},
   "outputs": [],
   "source": [
    "df.dropna(inplace=True)"
   ]
  },
  {
   "cell_type": "code",
   "execution_count": 752,
   "metadata": {},
   "outputs": [
    {
     "data": {
      "text/plain": [
       "BOROUGH                           0\n",
       "NEIGHBORHOOD                      0\n",
       "BUILDING CLASS CATEGORY           0\n",
       "TAX CLASS AT PRESENT              0\n",
       "BLOCK                             0\n",
       "LOT                               0\n",
       "BUILDING CLASS AT PRESENT         0\n",
       "ADDRESS                           0\n",
       "ZIP CODE                          0\n",
       "RESIDENTIAL UNITS                 0\n",
       "COMMERCIAL UNITS                  0\n",
       "TOTAL UNITS                       0\n",
       "LAND SQUARE FEET                  0\n",
       "GROSS SQUARE FEET                 0\n",
       "YEAR BUILT                        0\n",
       "TAX CLASS AT TIME OF SALE         0\n",
       "BUILDING CLASS AT TIME OF SALE    0\n",
       "SALE PRICE                        0\n",
       "SALE DATE                         0\n",
       "dtype: int64"
      ]
     },
     "execution_count": 752,
     "metadata": {},
     "output_type": "execute_result"
    }
   ],
   "source": [
    "df.isna().sum()"
   ]
  },
  {
   "cell_type": "markdown",
   "metadata": {},
   "source": [
    "Sudah tidak ada missing values. Selanjutnya, membuat box plot untuk melihat outliers pada kolom sale price."
   ]
  },
  {
   "cell_type": "code",
   "execution_count": 753,
   "metadata": {},
   "outputs": [
    {
     "data": {
      "image/png": "[encoded data removed]",
      "text/plain": [
       "<Figure size 1500x600 with 1 Axes>"
      ]
     },
     "metadata": {},
     "output_type": "display_data"
    }
   ],
   "source": [
    "plt.figure(figsize=(15,6))\n",
    "\n",
    "sns.boxplot(x='SALE PRICE', data=df)\n",
    "plt.ticklabel_format(style='plain', axis='x')\n",
    "plt.title('Boxplot of Sale Price in USD')\n",
    "plt.show()"
   ]
  },
  {
   "cell_type": "code",
   "execution_count": 754,
   "metadata": {},
   "outputs": [
    {
     "name": "stderr",
     "output_type": "stream",
     "text": [
      "C:\\Users\\Krisyohanda\\AppData\\Local\\Temp\\ipykernel_27560\\2962733142.py:1: UserWarning: \n",
      "\n",
      "`distplot` is a deprecated function and will be removed in seaborn v0.14.0.\n",
      "\n",
      "Please adapt your code to use either `displot` (a figure-level function with\n",
      "similar flexibility) or `histplot` (an axes-level function for histograms).\n",
      "\n",
      "For a guide to updating your code to use the new functions, please see\n",
      "https://gist.github.com/mwaskom/de44147ed2974457ad6372750bbe5751\n",
      "\n",
      "  sns.distplot(df['SALE PRICE'])\n"
     ]
    },
    {
     "data": {
      "text/plain": [
       "<AxesSubplot:xlabel='SALE PRICE', ylabel='Density'>"
      ]
     },
     "execution_count": 754,
     "metadata": {},
     "output_type": "execute_result"
    },
    {
     "data": {
      "image/png": "[encoded data removed]",
      "text/plain": [
       "<Figure size 500x500 with 1 Axes>"
      ]
     },
     "metadata": {},
     "output_type": "display_data"
    }
   ],
   "source": [
    "sns.distplot(df['SALE PRICE'])"
   ]
  },
  {
   "cell_type": "code",
   "execution_count": 755,
   "metadata": {},
   "outputs": [],
   "source": [
    "# Remove observations that fall outside those caps\n",
    "df = df[(df['SALE PRICE'] > 100000) & (df['SALE PRICE'] < 5000000)]"
   ]
  },
  {
   "cell_type": "code",
   "execution_count": 756,
   "metadata": {},
   "outputs": [
    {
     "name": "stderr",
     "output_type": "stream",
     "text": [
      "C:\\Users\\Krisyohanda\\AppData\\Local\\Temp\\ipykernel_27560\\2962733142.py:1: UserWarning: \n",
      "\n",
      "`distplot` is a deprecated function and will be removed in seaborn v0.14.0.\n",
      "\n",
      "Please adapt your code to use either `displot` (a figure-level function with\n",
      "similar flexibility) or `histplot` (an axes-level function for histograms).\n",
      "\n",
      "For a guide to updating your code to use the new functions, please see\n",
      "https://gist.github.com/mwaskom/de44147ed2974457ad6372750bbe5751\n",
      "\n",
      "  sns.distplot(df['SALE PRICE'])\n"
     ]
    },
    {
     "data": {
      "text/plain": [
       "<AxesSubplot:xlabel='SALE PRICE', ylabel='Density'>"
      ]
     },
     "execution_count": 756,
     "metadata": {},
     "output_type": "execute_result"
    },
    {
     "data": {
      "image/png": "[encoded data removed]",
      "text/plain": [
       "<Figure size 500x500 with 1 Axes>"
      ]
     },
     "metadata": {},
     "output_type": "display_data"
    }
   ],
   "source": [
    "sns.distplot(df['SALE PRICE'])"
   ]
  },
  {
   "cell_type": "code",
   "execution_count": 757,
   "metadata": {},
   "outputs": [
    {
     "name": "stdout",
     "output_type": "stream",
     "text": [
      "0.198994620445416\n"
     ]
    },
    {
     "name": "stderr",
     "output_type": "stream",
     "text": [
      "C:\\Users\\Krisyohanda\\AppData\\Local\\Temp\\ipykernel_27560\\169373770.py:3: UserWarning: \n",
      "\n",
      "`distplot` is a deprecated function and will be removed in seaborn v0.14.0.\n",
      "\n",
      "Please adapt your code to use either `displot` (a figure-level function with\n",
      "similar flexibility) or `histplot` (an axes-level function for histograms).\n",
      "\n",
      "For a guide to updating your code to use the new functions, please see\n",
      "https://gist.github.com/mwaskom/de44147ed2974457ad6372750bbe5751\n",
      "\n",
      "  sns.distplot(sales)\n"
     ]
    },
    {
     "data": {
      "text/plain": [
       "<AxesSubplot:xlabel='SALE PRICE', ylabel='Density'>"
      ]
     },
     "execution_count": 757,
     "metadata": {},
     "output_type": "execute_result"
    },
    {
     "data": {
      "image/png": "[encoded data removed]",
      "text/plain": [
       "<Figure size 500x500 with 1 Axes>"
      ]
     },
     "metadata": {},
     "output_type": "display_data"
    }
   ],
   "source": [
    "sales=np.log(df['SALE PRICE'])\n",
    "print(sales.skew())\n",
    "sns.distplot(sales)"
   ]
  },
  {
   "cell_type": "code",
   "execution_count": 758,
   "metadata": {},
   "outputs": [
    {
     "data": {
      "text/html": [
       "<div>\n",
       "<style scoped>\n",
       "    .dataframe tbody tr th:only-of-type {\n",
       "        vertical-align: middle;\n",
       "    }\n",
       "\n",
       "    .dataframe tbody tr th {\n",
       "        vertical-align: top;\n",
       "    }\n",
       "\n",
       "    .dataframe thead th {\n",
       "        text-align: right;\n",
       "    }\n",
       "</style>\n",
       "<table border=\"1\" class=\"dataframe\">\n",
       "  <thead>\n",
       "    <tr style=\"text-align: right;\">\n",
       "      <th></th>\n",
       "      <th>TOTAL UNITS</th>\n",
       "      <th>SALE PRICE</th>\n",
       "    </tr>\n",
       "  </thead>\n",
       "  <tbody>\n",
       "    <tr>\n",
       "      <th>1</th>\n",
       "      <td>1</td>\n",
       "      <td>24898</td>\n",
       "    </tr>\n",
       "    <tr>\n",
       "      <th>0</th>\n",
       "      <td>0</td>\n",
       "      <td>15554</td>\n",
       "    </tr>\n",
       "    <tr>\n",
       "      <th>2</th>\n",
       "      <td>2</td>\n",
       "      <td>9583</td>\n",
       "    </tr>\n",
       "    <tr>\n",
       "      <th>3</th>\n",
       "      <td>3</td>\n",
       "      <td>2737</td>\n",
       "    </tr>\n",
       "    <tr>\n",
       "      <th>4</th>\n",
       "      <td>4</td>\n",
       "      <td>708</td>\n",
       "    </tr>\n",
       "    <tr>\n",
       "      <th>...</th>\n",
       "      <td>...</td>\n",
       "      <td>...</td>\n",
       "    </tr>\n",
       "    <tr>\n",
       "      <th>40</th>\n",
       "      <td>51</td>\n",
       "      <td>1</td>\n",
       "    </tr>\n",
       "    <tr>\n",
       "      <th>33</th>\n",
       "      <td>34</td>\n",
       "      <td>1</td>\n",
       "    </tr>\n",
       "    <tr>\n",
       "      <th>38</th>\n",
       "      <td>47</td>\n",
       "      <td>1</td>\n",
       "    </tr>\n",
       "    <tr>\n",
       "      <th>37</th>\n",
       "      <td>39</td>\n",
       "      <td>1</td>\n",
       "    </tr>\n",
       "    <tr>\n",
       "      <th>69</th>\n",
       "      <td>2261</td>\n",
       "      <td>1</td>\n",
       "    </tr>\n",
       "  </tbody>\n",
       "</table>\n",
       "<p>70 rows × 2 columns</p>\n",
       "</div>"
      ],
      "text/plain": [
       "    TOTAL UNITS  SALE PRICE\n",
       "1             1       24898\n",
       "0             0       15554\n",
       "2             2        9583\n",
       "3             3        2737\n",
       "4             4         708\n",
       "..          ...         ...\n",
       "40           51           1\n",
       "33           34           1\n",
       "38           47           1\n",
       "37           39           1\n",
       "69         2261           1\n",
       "\n",
       "[70 rows x 2 columns]"
      ]
     },
     "execution_count": 758,
     "metadata": {},
     "output_type": "execute_result"
    }
   ],
   "source": [
    "df[[\"TOTAL UNITS\", \"SALE PRICE\"]].groupby(['TOTAL UNITS'], as_index=False).count().sort_values(by='SALE PRICE', ascending=False)"
   ]
  },
  {
   "cell_type": "markdown",
   "metadata": {},
   "source": [
    "Menghapus baris dengan TOTAL UNITS == 0 dan satu outlier dengan 2261 unit"
   ]
  },
  {
   "cell_type": "code",
   "execution_count": 759,
   "metadata": {},
   "outputs": [],
   "source": [
    "df = df[(df['TOTAL UNITS'] > 0) & (df['TOTAL UNITS'] != 2261)] "
   ]
  },
  {
   "cell_type": "code",
   "execution_count": 760,
   "metadata": {},
   "outputs": [
    {
     "data": {
      "text/html": [
       "<div>\n",
       "<style scoped>\n",
       "    .dataframe tbody tr th:only-of-type {\n",
       "        vertical-align: middle;\n",
       "    }\n",
       "\n",
       "    .dataframe tbody tr th {\n",
       "        vertical-align: top;\n",
       "    }\n",
       "\n",
       "    .dataframe thead th {\n",
       "        text-align: right;\n",
       "    }\n",
       "</style>\n",
       "<table border=\"1\" class=\"dataframe\">\n",
       "  <thead>\n",
       "    <tr style=\"text-align: right;\">\n",
       "      <th></th>\n",
       "      <th>BOROUGH</th>\n",
       "      <th>NEIGHBORHOOD</th>\n",
       "      <th>BUILDING CLASS CATEGORY</th>\n",
       "      <th>TAX CLASS AT PRESENT</th>\n",
       "      <th>BLOCK</th>\n",
       "      <th>LOT</th>\n",
       "      <th>BUILDING CLASS AT PRESENT</th>\n",
       "      <th>ADDRESS</th>\n",
       "      <th>ZIP CODE</th>\n",
       "      <th>RESIDENTIAL UNITS</th>\n",
       "      <th>COMMERCIAL UNITS</th>\n",
       "      <th>TOTAL UNITS</th>\n",
       "      <th>LAND SQUARE FEET</th>\n",
       "      <th>GROSS SQUARE FEET</th>\n",
       "      <th>YEAR BUILT</th>\n",
       "      <th>TAX CLASS AT TIME OF SALE</th>\n",
       "      <th>BUILDING CLASS AT TIME OF SALE</th>\n",
       "      <th>SALE PRICE</th>\n",
       "      <th>SALE DATE</th>\n",
       "    </tr>\n",
       "  </thead>\n",
       "  <tbody>\n",
       "    <tr>\n",
       "      <th>3</th>\n",
       "      <td>1</td>\n",
       "      <td>ALPHABET CITY</td>\n",
       "      <td>07 RENTALS - WALKUP APARTMENTS</td>\n",
       "      <td>2B</td>\n",
       "      <td>402</td>\n",
       "      <td>21</td>\n",
       "      <td>C4</td>\n",
       "      <td>154 EAST 7TH STREET</td>\n",
       "      <td>10009</td>\n",
       "      <td>10</td>\n",
       "      <td>0</td>\n",
       "      <td>10</td>\n",
       "      <td>2272.00</td>\n",
       "      <td>6794.00</td>\n",
       "      <td>1913</td>\n",
       "      <td>2</td>\n",
       "      <td>C4</td>\n",
       "      <td>3936272.00</td>\n",
       "      <td>2016-09-23</td>\n",
       "    </tr>\n",
       "    <tr>\n",
       "      <th>6</th>\n",
       "      <td>1</td>\n",
       "      <td>ALPHABET CITY</td>\n",
       "      <td>07 RENTALS - WALKUP APARTMENTS</td>\n",
       "      <td>2B</td>\n",
       "      <td>406</td>\n",
       "      <td>32</td>\n",
       "      <td>C4</td>\n",
       "      <td>210 AVENUE B</td>\n",
       "      <td>10009</td>\n",
       "      <td>8</td>\n",
       "      <td>0</td>\n",
       "      <td>8</td>\n",
       "      <td>1750.00</td>\n",
       "      <td>4226.00</td>\n",
       "      <td>1920</td>\n",
       "      <td>2</td>\n",
       "      <td>C4</td>\n",
       "      <td>3192840.00</td>\n",
       "      <td>2016-09-23</td>\n",
       "    </tr>\n",
       "    <tr>\n",
       "      <th>76</th>\n",
       "      <td>1</td>\n",
       "      <td>ALPHABET CITY</td>\n",
       "      <td>12 CONDOS - WALKUP APARTMENTS</td>\n",
       "      <td>2</td>\n",
       "      <td>386</td>\n",
       "      <td>1002</td>\n",
       "      <td>R2</td>\n",
       "      <td>211 EAST 3RD   STREET</td>\n",
       "      <td>10009</td>\n",
       "      <td>1</td>\n",
       "      <td>0</td>\n",
       "      <td>1</td>\n",
       "      <td>3854.48</td>\n",
       "      <td>3894.42</td>\n",
       "      <td>0</td>\n",
       "      <td>2</td>\n",
       "      <td>R2</td>\n",
       "      <td>620000.00</td>\n",
       "      <td>2016-12-30</td>\n",
       "    </tr>\n",
       "    <tr>\n",
       "      <th>79</th>\n",
       "      <td>1</td>\n",
       "      <td>ALPHABET CITY</td>\n",
       "      <td>13 CONDOS - ELEVATOR APARTMENTS</td>\n",
       "      <td>2</td>\n",
       "      <td>373</td>\n",
       "      <td>1003</td>\n",
       "      <td>R4</td>\n",
       "      <td>324 EAST 4TH STREET</td>\n",
       "      <td>10009</td>\n",
       "      <td>1</td>\n",
       "      <td>0</td>\n",
       "      <td>1</td>\n",
       "      <td>3854.48</td>\n",
       "      <td>3894.42</td>\n",
       "      <td>1920</td>\n",
       "      <td>2</td>\n",
       "      <td>R4</td>\n",
       "      <td>762669.00</td>\n",
       "      <td>2016-09-21</td>\n",
       "    </tr>\n",
       "    <tr>\n",
       "      <th>80</th>\n",
       "      <td>1</td>\n",
       "      <td>ALPHABET CITY</td>\n",
       "      <td>13 CONDOS - ELEVATOR APARTMENTS</td>\n",
       "      <td>2</td>\n",
       "      <td>373</td>\n",
       "      <td>1004</td>\n",
       "      <td>R4</td>\n",
       "      <td>324 EAST 4TH STREET</td>\n",
       "      <td>10009</td>\n",
       "      <td>1</td>\n",
       "      <td>0</td>\n",
       "      <td>1</td>\n",
       "      <td>3854.48</td>\n",
       "      <td>3894.42</td>\n",
       "      <td>1920</td>\n",
       "      <td>2</td>\n",
       "      <td>R4</td>\n",
       "      <td>772851.00</td>\n",
       "      <td>2016-09-12</td>\n",
       "    </tr>\n",
       "  </tbody>\n",
       "</table>\n",
       "</div>"
      ],
      "text/plain": [
       "   BOROUGH   NEIGHBORHOOD                      BUILDING CLASS CATEGORY  \\\n",
       "3        1  ALPHABET CITY  07 RENTALS - WALKUP APARTMENTS                \n",
       "6        1  ALPHABET CITY  07 RENTALS - WALKUP APARTMENTS                \n",
       "76       1  ALPHABET CITY  12 CONDOS - WALKUP APARTMENTS                 \n",
       "79       1  ALPHABET CITY  13 CONDOS - ELEVATOR APARTMENTS               \n",
       "80       1  ALPHABET CITY  13 CONDOS - ELEVATOR APARTMENTS               \n",
       "\n",
       "   TAX CLASS AT PRESENT  BLOCK   LOT BUILDING CLASS AT PRESENT  \\\n",
       "3                    2B    402    21                        C4   \n",
       "6                    2B    406    32                        C4   \n",
       "76                    2    386  1002                        R2   \n",
       "79                    2    373  1003                        R4   \n",
       "80                    2    373  1004                        R4   \n",
       "\n",
       "                  ADDRESS  ZIP CODE  RESIDENTIAL UNITS  COMMERCIAL UNITS  \\\n",
       "3     154 EAST 7TH STREET     10009                 10                 0   \n",
       "6            210 AVENUE B     10009                  8                 0   \n",
       "76  211 EAST 3RD   STREET     10009                  1                 0   \n",
       "79    324 EAST 4TH STREET     10009                  1                 0   \n",
       "80    324 EAST 4TH STREET     10009                  1                 0   \n",
       "\n",
       "    TOTAL UNITS  LAND SQUARE FEET  GROSS SQUARE FEET  YEAR BUILT  \\\n",
       "3            10           2272.00            6794.00        1913   \n",
       "6             8           1750.00            4226.00        1920   \n",
       "76            1           3854.48            3894.42           0   \n",
       "79            1           3854.48            3894.42        1920   \n",
       "80            1           3854.48            3894.42        1920   \n",
       "\n",
       "   TAX CLASS AT TIME OF SALE BUILDING CLASS AT TIME OF SALE  SALE PRICE  \\\n",
       "3                          2                             C4  3936272.00   \n",
       "6                          2                             C4  3192840.00   \n",
       "76                         2                             R2   620000.00   \n",
       "79                         2                             R4   762669.00   \n",
       "80                         2                             R4   772851.00   \n",
       "\n",
       "    SALE DATE  \n",
       "3  2016-09-23  \n",
       "6  2016-09-23  \n",
       "76 2016-12-30  \n",
       "79 2016-09-21  \n",
       "80 2016-09-12  "
      ]
     },
     "execution_count": 760,
     "metadata": {},
     "output_type": "execute_result"
    }
   ],
   "source": [
    "df.head()"
   ]
  },
  {
   "cell_type": "markdown",
   "metadata": {},
   "source": [
    "Ganti nilai pada kolom `BOROUGH` dengan 1 => Manhattan, 2 => Bronx, 3 => Brooklyn, 4 => Queens, dan 5 => Staten Island."
   ]
  },
  {
   "cell_type": "code",
   "execution_count": 761,
   "metadata": {},
   "outputs": [
    {
     "data": {
      "text/html": [
       "<div>\n",
       "<style scoped>\n",
       "    .dataframe tbody tr th:only-of-type {\n",
       "        vertical-align: middle;\n",
       "    }\n",
       "\n",
       "    .dataframe tbody tr th {\n",
       "        vertical-align: top;\n",
       "    }\n",
       "\n",
       "    .dataframe thead th {\n",
       "        text-align: right;\n",
       "    }\n",
       "</style>\n",
       "<table border=\"1\" class=\"dataframe\">\n",
       "  <thead>\n",
       "    <tr style=\"text-align: right;\">\n",
       "      <th></th>\n",
       "      <th>BOROUGH</th>\n",
       "      <th>NEIGHBORHOOD</th>\n",
       "      <th>BUILDING CLASS CATEGORY</th>\n",
       "      <th>TAX CLASS AT PRESENT</th>\n",
       "      <th>BLOCK</th>\n",
       "      <th>LOT</th>\n",
       "      <th>BUILDING CLASS AT PRESENT</th>\n",
       "      <th>ADDRESS</th>\n",
       "      <th>ZIP CODE</th>\n",
       "      <th>RESIDENTIAL UNITS</th>\n",
       "      <th>COMMERCIAL UNITS</th>\n",
       "      <th>TOTAL UNITS</th>\n",
       "      <th>LAND SQUARE FEET</th>\n",
       "      <th>GROSS SQUARE FEET</th>\n",
       "      <th>YEAR BUILT</th>\n",
       "      <th>TAX CLASS AT TIME OF SALE</th>\n",
       "      <th>BUILDING CLASS AT TIME OF SALE</th>\n",
       "      <th>SALE PRICE</th>\n",
       "      <th>SALE DATE</th>\n",
       "    </tr>\n",
       "  </thead>\n",
       "  <tbody>\n",
       "    <tr>\n",
       "      <th>3</th>\n",
       "      <td>Manhattan</td>\n",
       "      <td>ALPHABET CITY</td>\n",
       "      <td>07 RENTALS - WALKUP APARTMENTS</td>\n",
       "      <td>2B</td>\n",
       "      <td>402</td>\n",
       "      <td>21</td>\n",
       "      <td>C4</td>\n",
       "      <td>154 EAST 7TH STREET</td>\n",
       "      <td>10009</td>\n",
       "      <td>10</td>\n",
       "      <td>0</td>\n",
       "      <td>10</td>\n",
       "      <td>2272.00</td>\n",
       "      <td>6794.00</td>\n",
       "      <td>1913</td>\n",
       "      <td>2</td>\n",
       "      <td>C4</td>\n",
       "      <td>3936272.00</td>\n",
       "      <td>2016-09-23</td>\n",
       "    </tr>\n",
       "    <tr>\n",
       "      <th>6</th>\n",
       "      <td>Manhattan</td>\n",
       "      <td>ALPHABET CITY</td>\n",
       "      <td>07 RENTALS - WALKUP APARTMENTS</td>\n",
       "      <td>2B</td>\n",
       "      <td>406</td>\n",
       "      <td>32</td>\n",
       "      <td>C4</td>\n",
       "      <td>210 AVENUE B</td>\n",
       "      <td>10009</td>\n",
       "      <td>8</td>\n",
       "      <td>0</td>\n",
       "      <td>8</td>\n",
       "      <td>1750.00</td>\n",
       "      <td>4226.00</td>\n",
       "      <td>1920</td>\n",
       "      <td>2</td>\n",
       "      <td>C4</td>\n",
       "      <td>3192840.00</td>\n",
       "      <td>2016-09-23</td>\n",
       "    </tr>\n",
       "    <tr>\n",
       "      <th>76</th>\n",
       "      <td>Manhattan</td>\n",
       "      <td>ALPHABET CITY</td>\n",
       "      <td>12 CONDOS - WALKUP APARTMENTS</td>\n",
       "      <td>2</td>\n",
       "      <td>386</td>\n",
       "      <td>1002</td>\n",
       "      <td>R2</td>\n",
       "      <td>211 EAST 3RD   STREET</td>\n",
       "      <td>10009</td>\n",
       "      <td>1</td>\n",
       "      <td>0</td>\n",
       "      <td>1</td>\n",
       "      <td>3854.48</td>\n",
       "      <td>3894.42</td>\n",
       "      <td>0</td>\n",
       "      <td>2</td>\n",
       "      <td>R2</td>\n",
       "      <td>620000.00</td>\n",
       "      <td>2016-12-30</td>\n",
       "    </tr>\n",
       "    <tr>\n",
       "      <th>79</th>\n",
       "      <td>Manhattan</td>\n",
       "      <td>ALPHABET CITY</td>\n",
       "      <td>13 CONDOS - ELEVATOR APARTMENTS</td>\n",
       "      <td>2</td>\n",
       "      <td>373</td>\n",
       "      <td>1003</td>\n",
       "      <td>R4</td>\n",
       "      <td>324 EAST 4TH STREET</td>\n",
       "      <td>10009</td>\n",
       "      <td>1</td>\n",
       "      <td>0</td>\n",
       "      <td>1</td>\n",
       "      <td>3854.48</td>\n",
       "      <td>3894.42</td>\n",
       "      <td>1920</td>\n",
       "      <td>2</td>\n",
       "      <td>R4</td>\n",
       "      <td>762669.00</td>\n",
       "      <td>2016-09-21</td>\n",
       "    </tr>\n",
       "    <tr>\n",
       "      <th>80</th>\n",
       "      <td>Manhattan</td>\n",
       "      <td>ALPHABET CITY</td>\n",
       "      <td>13 CONDOS - ELEVATOR APARTMENTS</td>\n",
       "      <td>2</td>\n",
       "      <td>373</td>\n",
       "      <td>1004</td>\n",
       "      <td>R4</td>\n",
       "      <td>324 EAST 4TH STREET</td>\n",
       "      <td>10009</td>\n",
       "      <td>1</td>\n",
       "      <td>0</td>\n",
       "      <td>1</td>\n",
       "      <td>3854.48</td>\n",
       "      <td>3894.42</td>\n",
       "      <td>1920</td>\n",
       "      <td>2</td>\n",
       "      <td>R4</td>\n",
       "      <td>772851.00</td>\n",
       "      <td>2016-09-12</td>\n",
       "    </tr>\n",
       "  </tbody>\n",
       "</table>\n",
       "</div>"
      ],
      "text/plain": [
       "      BOROUGH   NEIGHBORHOOD                      BUILDING CLASS CATEGORY  \\\n",
       "3   Manhattan  ALPHABET CITY  07 RENTALS - WALKUP APARTMENTS                \n",
       "6   Manhattan  ALPHABET CITY  07 RENTALS - WALKUP APARTMENTS                \n",
       "76  Manhattan  ALPHABET CITY  12 CONDOS - WALKUP APARTMENTS                 \n",
       "79  Manhattan  ALPHABET CITY  13 CONDOS - ELEVATOR APARTMENTS               \n",
       "80  Manhattan  ALPHABET CITY  13 CONDOS - ELEVATOR APARTMENTS               \n",
       "\n",
       "   TAX CLASS AT PRESENT  BLOCK   LOT BUILDING CLASS AT PRESENT  \\\n",
       "3                    2B    402    21                        C4   \n",
       "6                    2B    406    32                        C4   \n",
       "76                    2    386  1002                        R2   \n",
       "79                    2    373  1003                        R4   \n",
       "80                    2    373  1004                        R4   \n",
       "\n",
       "                  ADDRESS  ZIP CODE  RESIDENTIAL UNITS  COMMERCIAL UNITS  \\\n",
       "3     154 EAST 7TH STREET     10009                 10                 0   \n",
       "6            210 AVENUE B     10009                  8                 0   \n",
       "76  211 EAST 3RD   STREET     10009                  1                 0   \n",
       "79    324 EAST 4TH STREET     10009                  1                 0   \n",
       "80    324 EAST 4TH STREET     10009                  1                 0   \n",
       "\n",
       "    TOTAL UNITS  LAND SQUARE FEET  GROSS SQUARE FEET  YEAR BUILT  \\\n",
       "3            10           2272.00            6794.00        1913   \n",
       "6             8           1750.00            4226.00        1920   \n",
       "76            1           3854.48            3894.42           0   \n",
       "79            1           3854.48            3894.42        1920   \n",
       "80            1           3854.48            3894.42        1920   \n",
       "\n",
       "   TAX CLASS AT TIME OF SALE BUILDING CLASS AT TIME OF SALE  SALE PRICE  \\\n",
       "3                          2                             C4  3936272.00   \n",
       "6                          2                             C4  3192840.00   \n",
       "76                         2                             R2   620000.00   \n",
       "79                         2                             R4   762669.00   \n",
       "80                         2                             R4   772851.00   \n",
       "\n",
       "    SALE DATE  \n",
       "3  2016-09-23  \n",
       "6  2016-09-23  \n",
       "76 2016-12-30  \n",
       "79 2016-09-21  \n",
       "80 2016-09-12  "
      ]
     },
     "execution_count": 761,
     "metadata": {},
     "output_type": "execute_result"
    }
   ],
   "source": [
    "df['BOROUGH']= df['BOROUGH'].map({1:'Manhattan', 2:'Bronx', 3: 'Brooklyn', 4:'Queens',5:'Staten Island'})\n",
    "df.head()"
   ]
  },
  {
   "cell_type": "markdown",
   "metadata": {},
   "source": [
    "  Mendapatkan ringkasan singkat setiap kolom menggunakan fungsi `describe()`."
   ]
  },
  {
   "cell_type": "code",
   "execution_count": 762,
   "metadata": {},
   "outputs": [
    {
     "data": {
      "text/html": [
       "<div>\n",
       "<style scoped>\n",
       "    .dataframe tbody tr th:only-of-type {\n",
       "        vertical-align: middle;\n",
       "    }\n",
       "\n",
       "    .dataframe tbody tr th {\n",
       "        vertical-align: top;\n",
       "    }\n",
       "\n",
       "    .dataframe thead th {\n",
       "        text-align: right;\n",
       "    }\n",
       "</style>\n",
       "<table border=\"1\" class=\"dataframe\">\n",
       "  <thead>\n",
       "    <tr style=\"text-align: right;\">\n",
       "      <th></th>\n",
       "      <th>BLOCK</th>\n",
       "      <th>LOT</th>\n",
       "      <th>ZIP CODE</th>\n",
       "      <th>RESIDENTIAL UNITS</th>\n",
       "      <th>COMMERCIAL UNITS</th>\n",
       "      <th>TOTAL UNITS</th>\n",
       "      <th>LAND SQUARE FEET</th>\n",
       "      <th>GROSS SQUARE FEET</th>\n",
       "      <th>YEAR BUILT</th>\n",
       "      <th>SALE PRICE</th>\n",
       "    </tr>\n",
       "  </thead>\n",
       "  <tbody>\n",
       "    <tr>\n",
       "      <th>count</th>\n",
       "      <td>39024.00</td>\n",
       "      <td>39024.00</td>\n",
       "      <td>39024.00</td>\n",
       "      <td>39024.00</td>\n",
       "      <td>39024.00</td>\n",
       "      <td>39024.00</td>\n",
       "      <td>39024.00</td>\n",
       "      <td>39024.00</td>\n",
       "      <td>39024.00</td>\n",
       "      <td>39024.00</td>\n",
       "    </tr>\n",
       "    <tr>\n",
       "      <th>mean</th>\n",
       "      <td>4687.39</td>\n",
       "      <td>463.67</td>\n",
       "      <td>10900.81</td>\n",
       "      <td>1.73</td>\n",
       "      <td>0.08</td>\n",
       "      <td>1.82</td>\n",
       "      <td>3268.73</td>\n",
       "      <td>2646.55</td>\n",
       "      <td>1830.47</td>\n",
       "      <td>934748.90</td>\n",
       "    </tr>\n",
       "    <tr>\n",
       "      <th>std</th>\n",
       "      <td>3731.95</td>\n",
       "      <td>714.38</td>\n",
       "      <td>622.12</td>\n",
       "      <td>10.71</td>\n",
       "      <td>1.04</td>\n",
       "      <td>10.86</td>\n",
       "      <td>26573.81</td>\n",
       "      <td>20859.17</td>\n",
       "      <td>475.05</td>\n",
       "      <td>787308.99</td>\n",
       "    </tr>\n",
       "    <tr>\n",
       "      <th>min</th>\n",
       "      <td>1.00</td>\n",
       "      <td>1.00</td>\n",
       "      <td>0.00</td>\n",
       "      <td>0.00</td>\n",
       "      <td>0.00</td>\n",
       "      <td>1.00</td>\n",
       "      <td>0.00</td>\n",
       "      <td>0.00</td>\n",
       "      <td>0.00</td>\n",
       "      <td>100700.00</td>\n",
       "    </tr>\n",
       "    <tr>\n",
       "      <th>25%</th>\n",
       "      <td>1532.00</td>\n",
       "      <td>28.00</td>\n",
       "      <td>10312.00</td>\n",
       "      <td>1.00</td>\n",
       "      <td>0.00</td>\n",
       "      <td>1.00</td>\n",
       "      <td>1958.00</td>\n",
       "      <td>1280.00</td>\n",
       "      <td>1920.00</td>\n",
       "      <td>460000.00</td>\n",
       "    </tr>\n",
       "    <tr>\n",
       "      <th>50%</th>\n",
       "      <td>4010.00</td>\n",
       "      <td>62.00</td>\n",
       "      <td>11214.00</td>\n",
       "      <td>1.00</td>\n",
       "      <td>0.00</td>\n",
       "      <td>1.00</td>\n",
       "      <td>2640.00</td>\n",
       "      <td>2000.00</td>\n",
       "      <td>1940.00</td>\n",
       "      <td>688000.00</td>\n",
       "    </tr>\n",
       "    <tr>\n",
       "      <th>75%</th>\n",
       "      <td>6799.00</td>\n",
       "      <td>1027.00</td>\n",
       "      <td>11360.00</td>\n",
       "      <td>2.00</td>\n",
       "      <td>0.00</td>\n",
       "      <td>2.00</td>\n",
       "      <td>3854.48</td>\n",
       "      <td>3894.42</td>\n",
       "      <td>1986.00</td>\n",
       "      <td>1081476.25</td>\n",
       "    </tr>\n",
       "    <tr>\n",
       "      <th>max</th>\n",
       "      <td>16319.00</td>\n",
       "      <td>9106.00</td>\n",
       "      <td>11694.00</td>\n",
       "      <td>1844.00</td>\n",
       "      <td>126.00</td>\n",
       "      <td>1866.00</td>\n",
       "      <td>4228300.00</td>\n",
       "      <td>3750565.00</td>\n",
       "      <td>2017.00</td>\n",
       "      <td>4996841.00</td>\n",
       "    </tr>\n",
       "  </tbody>\n",
       "</table>\n",
       "</div>"
      ],
      "text/plain": [
       "         BLOCK      LOT  ZIP CODE  RESIDENTIAL UNITS  COMMERCIAL UNITS  \\\n",
       "count 39024.00 39024.00  39024.00           39024.00          39024.00   \n",
       "mean   4687.39   463.67  10900.81               1.73              0.08   \n",
       "std    3731.95   714.38    622.12              10.71              1.04   \n",
       "min       1.00     1.00      0.00               0.00              0.00   \n",
       "25%    1532.00    28.00  10312.00               1.00              0.00   \n",
       "50%    4010.00    62.00  11214.00               1.00              0.00   \n",
       "75%    6799.00  1027.00  11360.00               2.00              0.00   \n",
       "max   16319.00  9106.00  11694.00            1844.00            126.00   \n",
       "\n",
       "       TOTAL UNITS  LAND SQUARE FEET  GROSS SQUARE FEET  YEAR BUILT  \\\n",
       "count     39024.00          39024.00           39024.00    39024.00   \n",
       "mean          1.82           3268.73            2646.55     1830.47   \n",
       "std          10.86          26573.81           20859.17      475.05   \n",
       "min           1.00              0.00               0.00        0.00   \n",
       "25%           1.00           1958.00            1280.00     1920.00   \n",
       "50%           1.00           2640.00            2000.00     1940.00   \n",
       "75%           2.00           3854.48            3894.42     1986.00   \n",
       "max        1866.00        4228300.00         3750565.00     2017.00   \n",
       "\n",
       "       SALE PRICE  \n",
       "count    39024.00  \n",
       "mean    934748.90  \n",
       "std     787308.99  \n",
       "min     100700.00  \n",
       "25%     460000.00  \n",
       "50%     688000.00  \n",
       "75%    1081476.25  \n",
       "max    4996841.00  "
      ]
     },
     "execution_count": 762,
     "metadata": {},
     "output_type": "execute_result"
    }
   ],
   "source": [
    "df.describe()"
   ]
  },
  {
   "cell_type": "markdown",
   "metadata": {},
   "source": [
    "Pada ringkasan di atas pada kolom `TOTAL UNITS, YEAR BUILT, SALE PRICE, LAND SQUARE FEET, dan GROSS SQUARE FEET` terdapat angka paling kecil 0 padahal tidak boleh ada angka 0 di kolom tersebut."
   ]
  },
  {
   "cell_type": "code",
   "execution_count": 763,
   "metadata": {},
   "outputs": [
    {
     "name": "stdout",
     "output_type": "stream",
     "text": [
      "Nilai 0 pada YEAR BUILT:  2449\n",
      "Nilai 0 pada TOTAL UNIT:  0\n",
      "Nilai 0 pada SALE PRICE:  0\n",
      "Nilai 0 pada LAND SQUARE FEET:  4179\n",
      "Nilai 0 pada GROSS SQUARE FEET:  4225\n"
     ]
    }
   ],
   "source": [
    "print(\"Nilai 0 pada YEAR BUILT: \",df[df['YEAR BUILT']==0]['YEAR BUILT'].count())\n",
    "print(\"Nilai 0 pada TOTAL UNIT: \",df[df['TOTAL UNITS']==0]['TOTAL UNITS'].count())\n",
    "print(\"Nilai 0 pada SALE PRICE: \",df[df['SALE PRICE']==0]['SALE PRICE'].count())\n",
    "print(\"Nilai 0 pada LAND SQUARE FEET: \",df[df['LAND SQUARE FEET']==0]['LAND SQUARE FEET'].count())\n",
    "print(\"Nilai 0 pada GROSS SQUARE FEET: \",df[df['GROSS SQUARE FEET']==0]['GROSS SQUARE FEET'].count())"
   ]
  },
  {
   "cell_type": "markdown",
   "metadata": {},
   "source": [
    "Mengganti nilai 0 pada ketiga kolom di atas menggunakan fungsi `replace()`."
   ]
  },
  {
   "cell_type": "code",
   "execution_count": 764,
   "metadata": {},
   "outputs": [],
   "source": [
    "df['YEAR BUILT'].replace(0, np.nan, inplace=True)\n",
    "df['TOTAL UNITS'].replace(0, np.nan, inplace=True)\n",
    "df['SALE PRICE'].replace(0, np.nan, inplace=True)\n",
    "df['LAND SQUARE FEET'].replace(0, np.nan, inplace=True)\n",
    "df['GROSS SQUARE FEET'].replace(0, np.nan, inplace=True)"
   ]
  },
  {
   "cell_type": "markdown",
   "metadata": {},
   "source": [
    "Memastikan nilai 0 sudah tidak ada."
   ]
  },
  {
   "cell_type": "code",
   "execution_count": 765,
   "metadata": {},
   "outputs": [
    {
     "name": "stdout",
     "output_type": "stream",
     "text": [
      "Nilai 0 pada YEAR BUILT:  0\n",
      "Nilai 0 pada TOTAL UNIT:  0\n",
      "Nilai 0 pada SALE PRICE:  0\n",
      "Nilai 0 pada LAND SQUARE FEET:  0\n",
      "Nilai 0 pada GROSS SQUARE FEET:  0\n"
     ]
    }
   ],
   "source": [
    "print(\"Nilai 0 pada YEAR BUILT: \",df[df['YEAR BUILT']==0]['YEAR BUILT'].count())\n",
    "print(\"Nilai 0 pada TOTAL UNIT: \",df[df['TOTAL UNITS']==0]['TOTAL UNITS'].count())\n",
    "print(\"Nilai 0 pada SALE PRICE: \",df[df['SALE PRICE']==0]['SALE PRICE'].count())\n",
    "print(\"Nilai 0 pada LAND SQUARE FEET: \",df[df['LAND SQUARE FEET']==0]['LAND SQUARE FEET'].count())\n",
    "print(\"Nilai 0 pada GROSS SQUARE FEET: \",df[df['GROSS SQUARE FEET']==0]['GROSS SQUARE FEET'].count())"
   ]
  },
  {
   "cell_type": "markdown",
   "metadata": {},
   "source": [
    "Nilai 0 telah terganti dengan NaN. Selanjutnya hapus missing values dengan `dropna`."
   ]
  },
  {
   "cell_type": "code",
   "execution_count": 766,
   "metadata": {},
   "outputs": [],
   "source": [
    "df.dropna(inplace=True)"
   ]
  },
  {
   "cell_type": "markdown",
   "metadata": {},
   "source": [
    "### Measure of Central Tendency: Mean"
   ]
  },
  {
   "cell_type": "markdown",
   "metadata": {},
   "source": [
    "##### Berapakah rata-rata harga penjualan di setiap wilayah?"
   ]
  },
  {
   "cell_type": "code",
   "execution_count": 767,
   "metadata": {},
   "outputs": [
    {
     "name": "stdout",
     "output_type": "stream",
     "text": [
      "Mean dari harga penjualan di wilayah Manhattan :  1798402.23\n",
      "Mean dari harga penjualan di wilayah Bronx :  605729.94\n",
      "Mean dari harga penjualan di wilayah Brooklyn:  1101674.90\n",
      "Mean dari harga penjualan di wilayah Queens:  729356.96\n",
      "Mean dari harga penjualan di wilayah Staten Island:  513697.44\n"
     ]
    }
   ],
   "source": [
    "mean_manhattan = statistics.mean(df[df['BOROUGH'] == 'Manhattan']['SALE PRICE'])\n",
    "mean_bronx = statistics.mean(df[df['BOROUGH'] == 'Bronx']['SALE PRICE'])\n",
    "mean_brooklyn = statistics.mean(df[df['BOROUGH'] == 'Brooklyn']['SALE PRICE'])\n",
    "mean_queens = statistics.mean(df[df['BOROUGH'] == 'Queens']['SALE PRICE'])\n",
    "mean_staten_island = statistics.mean(df[df['BOROUGH'] == 'Staten Island']['SALE PRICE'])\n",
    "print(\"Mean dari harga penjualan di wilayah Manhattan : \", \"{:.2f}\".format(mean_manhattan))\n",
    "print(\"Mean dari harga penjualan di wilayah Bronx : \", \"{:.2f}\".format(mean_bronx))\n",
    "print(\"Mean dari harga penjualan di wilayah Brooklyn: \", \"{:.2f}\".format(mean_brooklyn))\n",
    "print(\"Mean dari harga penjualan di wilayah Queens: \", \"{:.2f}\".format(mean_queens))\n",
    "print(\"Mean dari harga penjualan di wilayah Staten Island: \", \"{:.2f}\".format(mean_staten_island))"
   ]
  },
  {
   "cell_type": "code",
   "execution_count": 768,
   "metadata": {},
   "outputs": [
    {
     "data": {
      "image/png": "[encoded data removed]",
      "text/plain": [
       "<Figure size 1500x1000 with 1 Axes>"
      ]
     },
     "metadata": {},
     "output_type": "display_data"
    }
   ],
   "source": [
    "the_mean_saleprice_of_each_borough = df[['BOROUGH','SALE PRICE']].groupby('BOROUGH').mean().sort_values(by='SALE PRICE', ascending=True)\n",
    "the_mean_saleprice_of_each_borough.plot(kind = 'bar', figsize=(15,10))\n",
    "\n",
    "plt.title('Harga Rata-Rata Penjualan Properti di Setiap Wilayah')\n",
    "plt.xlabel('Wilayah')\n",
    "plt.ylabel('Rata-Rata')\n",
    "plt.text(3.8, mean_manhattan, \"{:.2f}\".format(mean_manhattan))\n",
    "plt.text(2.8, mean_brooklyn, \"{:.2f}\".format(mean_brooklyn))\n",
    "plt.text(1.8, mean_queens, \"{:.2f}\".format(mean_queens))\n",
    "plt.text(0.8, mean_bronx, \"{:.2f}\".format(mean_bronx))\n",
    "plt.text(-0.2, mean_staten_island, \"{:.2f}\".format(mean_staten_island))\n",
    "\n",
    "plt.show()"
   ]
  },
  {
   "cell_type": "markdown",
   "metadata": {},
   "source": [
    "Berdasarkan perhitungan dan grafik di atas dapat disimpulkan bahwa wilayah Manhattan memiliki harga rata-rata penjualan tertinggi dibandingkan wilayah lain."
   ]
  },
  {
   "cell_type": "markdown",
   "metadata": {},
   "source": [
    "### Measure of Central Tendency: Median"
   ]
  },
  {
   "cell_type": "markdown",
   "metadata": {},
   "source": [
    "#### Berapa nilai median sale price berdasarkan tax class at present?"
   ]
  },
  {
   "cell_type": "code",
   "execution_count": 769,
   "metadata": {},
   "outputs": [
    {
     "data": {
      "text/html": [
       "<div>\n",
       "<style scoped>\n",
       "    .dataframe tbody tr th:only-of-type {\n",
       "        vertical-align: middle;\n",
       "    }\n",
       "\n",
       "    .dataframe tbody tr th {\n",
       "        vertical-align: top;\n",
       "    }\n",
       "\n",
       "    .dataframe thead th {\n",
       "        text-align: right;\n",
       "    }\n",
       "</style>\n",
       "<table border=\"1\" class=\"dataframe\">\n",
       "  <thead>\n",
       "    <tr style=\"text-align: right;\">\n",
       "      <th></th>\n",
       "      <th>SALE PRICE</th>\n",
       "    </tr>\n",
       "    <tr>\n",
       "      <th>TAX CLASS AT PRESENT</th>\n",
       "      <th></th>\n",
       "    </tr>\n",
       "  </thead>\n",
       "  <tbody>\n",
       "    <tr>\n",
       "      <th>1</th>\n",
       "      <td>599000.00</td>\n",
       "    </tr>\n",
       "    <tr>\n",
       "      <th>1A</th>\n",
       "      <td>345000.00</td>\n",
       "    </tr>\n",
       "    <tr>\n",
       "      <th>1B</th>\n",
       "      <td>504500.00</td>\n",
       "    </tr>\n",
       "    <tr>\n",
       "      <th>1C</th>\n",
       "      <td>900000.00</td>\n",
       "    </tr>\n",
       "    <tr>\n",
       "      <th>2</th>\n",
       "      <td>1062115.00</td>\n",
       "    </tr>\n",
       "    <tr>\n",
       "      <th>2A</th>\n",
       "      <td>1200000.00</td>\n",
       "    </tr>\n",
       "    <tr>\n",
       "      <th>2B</th>\n",
       "      <td>1875000.00</td>\n",
       "    </tr>\n",
       "    <tr>\n",
       "      <th>2C</th>\n",
       "      <td>1150311.00</td>\n",
       "    </tr>\n",
       "    <tr>\n",
       "      <th>4</th>\n",
       "      <td>1390838.00</td>\n",
       "    </tr>\n",
       "  </tbody>\n",
       "</table>\n",
       "</div>"
      ],
      "text/plain": [
       "                      SALE PRICE\n",
       "TAX CLASS AT PRESENT            \n",
       "1                      599000.00\n",
       "1A                     345000.00\n",
       "1B                     504500.00\n",
       "1C                     900000.00\n",
       "2                     1062115.00\n",
       "2A                    1200000.00\n",
       "2B                    1875000.00\n",
       "2C                    1150311.00\n",
       "4                     1390838.00"
      ]
     },
     "execution_count": 769,
     "metadata": {},
     "output_type": "execute_result"
    }
   ],
   "source": [
    "median_saleprice = df.pivot_table(index='TAX CLASS AT PRESENT', values='SALE PRICE', aggfunc=np.median)\n",
    "median_saleprice"
   ]
  },
  {
   "cell_type": "code",
   "execution_count": 770,
   "metadata": {},
   "outputs": [
    {
     "data": {
      "image/png": "[encoded data removed]",
      "text/plain": [
       "<Figure size 500x500 with 1 Axes>"
      ]
     },
     "metadata": {},
     "output_type": "display_data"
    }
   ],
   "source": [
    "median_saleprice.plot(kind='bar', color='green')\n",
    "plt.show()"
   ]
  },
  {
   "cell_type": "markdown",
   "metadata": {},
   "source": [
    "Nilai tengah tertinggi terdapat pada tax class 2B dan terendah pada tax 1A."
   ]
  },
  {
   "cell_type": "markdown",
   "metadata": {},
   "source": [
    "### Measure of Central Tendency: Modus"
   ]
  },
  {
   "cell_type": "code",
   "execution_count": 771,
   "metadata": {},
   "outputs": [
    {
     "name": "stdout",
     "output_type": "stream",
     "text": [
      "Mode Borough                 : Queens\n",
      "Mode Neighborhood            : FLUSHING-NORTH\n",
      "Mode Building Class Category : 01 ONE FAMILY DWELLINGS                    \n"
     ]
    }
   ],
   "source": [
    "mode_borough            = statistics.mode(df['BOROUGH'])\n",
    "mode_Neighborhood       = statistics.mode(df['NEIGHBORHOOD'])\n",
    "mode_BuildClassCategory = statistics.mode(df['BUILDING CLASS CATEGORY'])\n",
    "print(\"Mode Borough                 :\", mode_borough)\n",
    "print(\"Mode Neighborhood            :\", mode_Neighborhood)\n",
    "print(\"Mode Building Class Category :\", mode_BuildClassCategory )"
   ]
  },
  {
   "cell_type": "markdown",
   "metadata": {},
   "source": [
    "#### Kategori kelas bangunan apakah yang sering terjual di wilayah Bronx?"
   ]
  },
  {
   "cell_type": "code",
   "execution_count": 772,
   "metadata": {},
   "outputs": [
    {
     "data": {
      "text/plain": [
       "'02 TWO FAMILY DWELLINGS                    '"
      ]
     },
     "execution_count": 772,
     "metadata": {},
     "output_type": "execute_result"
    }
   ],
   "source": [
    "most_sold = df['BOROUGH'] == 'Bronx'\n",
    "statistics.mode(df[most_sold]['BUILDING CLASS CATEGORY'])"
   ]
  },
  {
   "cell_type": "markdown",
   "metadata": {},
   "source": [
    "Kategori kelas bangunan yang sering terjual di wilayah Bronx adalah `02 TWO FAMILY DWELLINGS`."
   ]
  },
  {
   "cell_type": "markdown",
   "metadata": {},
   "source": [
    "### Measure of Spread: Range"
   ]
  },
  {
   "cell_type": "markdown",
   "metadata": {},
   "source": [
    "#### Berapa range luas Gross Square Feet dan Land Square Feet?"
   ]
  },
  {
   "cell_type": "code",
   "execution_count": 773,
   "metadata": {},
   "outputs": [
    {
     "name": "stdout",
     "output_type": "stream",
     "text": [
      "Nilai Min Gross Square Feet : 120.0\n",
      "Nilai Max Gross Square Feet : 3750565.0\n",
      "Nilai Min Gross Square Feet : 200.0\n",
      "Nilai Max LAND SQUARE FEET : 4228300.0\n",
      "Range dari Gross Square Feet : 3750445.0\n",
      "Range dari Land Square Feet  : 4228100.0\n"
     ]
    }
   ],
   "source": [
    "range_gross_square_feet = np.ptp(df['GROSS SQUARE FEET'])\n",
    "range_land_square_feet = np.ptp(df['LAND SQUARE FEET'])\n",
    "print(f\"Nilai Min Gross Square Feet : {df['GROSS SQUARE FEET'].min()}\")\n",
    "print(f\"Nilai Max Gross Square Feet : {df['GROSS SQUARE FEET'].max()}\")\n",
    "print(f\"Nilai Min Land Square Feet : {df['LAND SQUARE FEET'].min()}\")\n",
    "print(f\"Nilai Max Land Square Feet : {df['LAND SQUARE FEET'].max()}\")\n",
    "print(\"Range dari Gross Square Feet :\", range_gross_square_feet)\n",
    "print(\"Range dari Land Square Feet  :\", range_land_square_feet)"
   ]
  },
  {
   "cell_type": "markdown",
   "metadata": {},
   "source": [
    "### Measure of Spread: Variance"
   ]
  },
  {
   "cell_type": "markdown",
   "metadata": {},
   "source": [
    "#### Berapa nilai varians dari `SALE PRICE, LAND SQUARE FEET, dan GROSS SQUARE FEET`?"
   ]
  },
  {
   "cell_type": "code",
   "execution_count": 774,
   "metadata": {},
   "outputs": [
    {
     "name": "stdout",
     "output_type": "stream",
     "text": [
      "varian dari Sale Price        :  602474159794.4727\n",
      "Varian dari Land Square Feet  :  824238021.2192081\n",
      "Varian dari Gross Square Feet :  507763004.72688925\n"
     ]
    }
   ],
   "source": [
    "var_saleprice = statistics.variance(df['SALE PRICE'])\n",
    "var_land_square_feet = statistics.variance(df['LAND SQUARE FEET'])\n",
    "var_gross_square_feet = statistics.variance(df['GROSS SQUARE FEET'])\n",
    "print(\"varian dari Sale Price        : \", var_saleprice)\n",
    "print(\"Varian dari Land Square Feet  : \", var_land_square_feet)\n",
    "print(\"Varian dari Gross Square Feet : \", var_gross_square_feet)"
   ]
  },
  {
   "cell_type": "markdown",
   "metadata": {},
   "source": [
    "### Measure of Spread: Standard Deviation"
   ]
  },
  {
   "cell_type": "markdown",
   "metadata": {},
   "source": [
    "#### Berapa nilai standar deviasi dari `SALE PRICE, LAND SQUARE FEET, dan GROSS SQUARE FEET`?"
   ]
  },
  {
   "cell_type": "code",
   "execution_count": 775,
   "metadata": {},
   "outputs": [
    {
     "name": "stdout",
     "output_type": "stream",
     "text": [
      "Standar Deviasi dari Sale Price        :  776192.0894949089\n",
      "Standar Deviasi dari Land Square Feet  :  28709.54582049685\n",
      "Standar Deviasi dari Gross Square Feet :  22533.597243380587\n"
     ]
    }
   ],
   "source": [
    "std_saleprice = statistics.stdev(df['SALE PRICE'])\n",
    "std_land_square_feet = statistics.stdev(df['LAND SQUARE FEET'])\n",
    "std_gross_square_feet = statistics.stdev(df['GROSS SQUARE FEET'])\n",
    "print(\"Standar Deviasi dari Sale Price        : \", std_saleprice)\n",
    "print(\"Standar Deviasi dari Land Square Feet  : \", std_land_square_feet)\n",
    "print(\"Standar Deviasi dari Gross Square Feet : \", std_gross_square_feet)"
   ]
  },
  {
   "cell_type": "markdown",
   "metadata": {},
   "source": [
    "### Probability Distribution"
   ]
  },
  {
   "cell_type": "markdown",
   "metadata": {},
   "source": [
    "#### Probability distribution dari Sale Price di wilayah Staten Island"
   ]
  },
  {
   "cell_type": "code",
   "execution_count": 776,
   "metadata": {},
   "outputs": [
    {
     "name": "stderr",
     "output_type": "stream",
     "text": [
      "C:\\Users\\Krisyohanda\\AppData\\Local\\Temp\\ipykernel_27560\\755907081.py:3: UserWarning: \n",
      "\n",
      "`distplot` is a deprecated function and will be removed in seaborn v0.14.0.\n",
      "\n",
      "Please adapt your code to use either `displot` (a figure-level function with\n",
      "similar flexibility) or `histplot` (an axes-level function for histograms).\n",
      "\n",
      "For a guide to updating your code to use the new functions, please see\n",
      "https://gist.github.com/mwaskom/de44147ed2974457ad6372750bbe5751\n",
      "\n",
      "  ax = sns.distplot(distribution_statenisland,\n"
     ]
    },
    {
     "data": {
      "text/plain": [
       "[Text(0.5, 0, 'price'),\n",
       " Text(0, 0.5, 'Kemungkinan'),\n",
       " Text(0.5, 1.0, 'Distribusi Harga Jual di wilayah Staten Island')]"
      ]
     },
     "execution_count": 776,
     "metadata": {},
     "output_type": "execute_result"
    },
    {
     "data": {
      "image/png": "[encoded data removed]",
      "text/plain": [
       "<Figure size 500x500 with 1 Axes>"
      ]
     },
     "metadata": {},
     "output_type": "display_data"
    }
   ],
   "source": [
    "distribution_statenisland = df[df['BOROUGH'] == 'Staten Island']['SALE PRICE']\n",
    "\n",
    "ax = sns.distplot(distribution_statenisland,\n",
    "                  kde=True,\n",
    "                  bins=100,\n",
    "                  color='skyblue',\n",
    "                  hist_kws={\"linewidth\": 15,'alpha':1})\n",
    "ax.ticklabel_format(style='plain')\n",
    "ax.set(xlabel='price', ylabel='Kemungkinan', title='Distribusi Harga Jual di wilayah Staten Island')"
   ]
  },
  {
   "cell_type": "code",
   "execution_count": 777,
   "metadata": {},
   "outputs": [
    {
     "name": "stderr",
     "output_type": "stream",
     "text": [
      "C:\\Users\\Krisyohanda\\AppData\\Local\\Temp\\ipykernel_27560\\3990878543.py:3: UserWarning: \n",
      "\n",
      "`distplot` is a deprecated function and will be removed in seaborn v0.14.0.\n",
      "\n",
      "Please adapt your code to use either `displot` (a figure-level function with\n",
      "similar flexibility) or `histplot` (an axes-level function for histograms).\n",
      "\n",
      "For a guide to updating your code to use the new functions, please see\n",
      "https://gist.github.com/mwaskom/de44147ed2974457ad6372750bbe5751\n",
      "\n",
      "  ax = sns.distplot(x, fit=norm, kde=True)\n"
     ]
    },
    {
     "data": {
      "image/png": "[encoded data removed]",
      "text/plain": [
       "<Figure size 500x500 with 1 Axes>"
      ]
     },
     "metadata": {},
     "output_type": "display_data"
    }
   ],
   "source": [
    "from scipy.stats import norm\n",
    "x = pd.Series(distribution_statenisland.values, name=\"SALE PRICE\")\n",
    "ax = sns.distplot(x, fit=norm, kde=True)\n",
    "ax.ticklabel_format(style='plain')"
   ]
  },
  {
   "cell_type": "markdown",
   "metadata": {},
   "source": [
    "### Confidence Intervals"
   ]
  },
  {
   "cell_type": "markdown",
   "metadata": {},
   "source": [
    "#### Berapa rata-rata sale price di wilayah Queens?"
   ]
  },
  {
   "cell_type": "code",
   "execution_count": 778,
   "metadata": {},
   "outputs": [
    {
     "data": {
      "text/html": [
       "<div>\n",
       "<style scoped>\n",
       "    .dataframe tbody tr th:only-of-type {\n",
       "        vertical-align: middle;\n",
       "    }\n",
       "\n",
       "    .dataframe tbody tr th {\n",
       "        vertical-align: top;\n",
       "    }\n",
       "\n",
       "    .dataframe thead tr th {\n",
       "        text-align: left;\n",
       "    }\n",
       "\n",
       "    .dataframe thead tr:last-of-type th {\n",
       "        text-align: right;\n",
       "    }\n",
       "</style>\n",
       "<table border=\"1\" class=\"dataframe\">\n",
       "  <thead>\n",
       "    <tr>\n",
       "      <th></th>\n",
       "      <th colspan=\"3\" halign=\"left\">SALE PRICE</th>\n",
       "    </tr>\n",
       "    <tr>\n",
       "      <th></th>\n",
       "      <th>mean</th>\n",
       "      <th>std</th>\n",
       "      <th>size</th>\n",
       "    </tr>\n",
       "    <tr>\n",
       "      <th>BOROUGH</th>\n",
       "      <th></th>\n",
       "      <th></th>\n",
       "      <th></th>\n",
       "    </tr>\n",
       "  </thead>\n",
       "  <tbody>\n",
       "    <tr>\n",
       "      <th>Manhattan</th>\n",
       "      <td>1798402.23</td>\n",
       "      <td>1123858.13</td>\n",
       "      <td>4418</td>\n",
       "    </tr>\n",
       "    <tr>\n",
       "      <th>Bronx</th>\n",
       "      <td>605729.94</td>\n",
       "      <td>574481.64</td>\n",
       "      <td>3228</td>\n",
       "    </tr>\n",
       "    <tr>\n",
       "      <th>Brooklyn</th>\n",
       "      <td>1101674.90</td>\n",
       "      <td>802893.21</td>\n",
       "      <td>7877</td>\n",
       "    </tr>\n",
       "    <tr>\n",
       "      <th>Queens</th>\n",
       "      <td>729356.96</td>\n",
       "      <td>462138.56</td>\n",
       "      <td>12369</td>\n",
       "    </tr>\n",
       "    <tr>\n",
       "      <th>Staten Island</th>\n",
       "      <td>513697.44</td>\n",
       "      <td>271275.15</td>\n",
       "      <td>5480</td>\n",
       "    </tr>\n",
       "  </tbody>\n",
       "</table>\n",
       "</div>"
      ],
      "text/plain": [
       "              SALE PRICE                  \n",
       "                    mean        std   size\n",
       "BOROUGH                                   \n",
       "Manhattan     1798402.23 1123858.13   4418\n",
       "Bronx          605729.94  574481.64   3228\n",
       "Brooklyn      1101674.90  802893.21   7877\n",
       "Queens         729356.96  462138.56  12369\n",
       "Staten Island  513697.44  271275.15   5480"
      ]
     },
     "execution_count": 778,
     "metadata": {},
     "output_type": "execute_result"
    }
   ],
   "source": [
    "confidence_intervals=df.groupby(\"BOROUGH\").agg({\"SALE PRICE\": [np.mean, np.std, np.size]})\n",
    "pd.options.display.float_format = \"{:.2f}\".format\n",
    "confidence_intervals"
   ]
  },
  {
   "cell_type": "code",
   "execution_count": 779,
   "metadata": {},
   "outputs": [],
   "source": [
    "#Mengekstrak parameter yang diperlukan\n",
    "mean_sp_queens = confidence_intervals.iloc[3,0]\n",
    "sd = confidence_intervals.iloc [3,1]\n",
    "n = confidence_intervals.iloc [3,2]         \n",
    "z = 1.96 #z-score untuk confidence level 95%"
   ]
  },
  {
   "cell_type": "markdown",
   "metadata": {},
   "source": [
    "Menghitung standard error menggunakan formula untuk standard error dari mean"
   ]
  },
  {
   "cell_type": "code",
   "execution_count": 780,
   "metadata": {},
   "outputs": [],
   "source": [
    "se = sd / np.sqrt(n)"
   ]
  },
  {
   "cell_type": "markdown",
   "metadata": {},
   "source": [
    "Sekarang kita memiliki yang dibutuhkan untuk menghitung CI untuk mean sale price di wilayah Queens."
   ]
  },
  {
   "cell_type": "code",
   "execution_count": 781,
   "metadata": {},
   "outputs": [],
   "source": [
    "lcb = mean_sp_queens - z * se\n",
    "ucb = mean_sp_queens + z * se"
   ]
  },
  {
   "cell_type": "code",
   "execution_count": 783,
   "metadata": {},
   "outputs": [
    {
     "name": "stdout",
     "output_type": "stream",
     "text": [
      "Itu berarti rata-rata sebenarnya dari sale price di wilayah Queens akan jatuh antara 721212.5278815193 dan 737501.3987091508\n"
     ]
    }
   ],
   "source": [
    "print(f\"Itu berarti rata-rata sebenarnya dari sale price di wilayah Queens akan jatuh antara {lcb} dan {ucb}\")"
   ]
  },
  {
   "cell_type": "markdown",
   "metadata": {},
   "source": [
    "### Hypothesis Testing"
   ]
  },
  {
   "cell_type": "code",
   "execution_count": 786,
   "metadata": {},
   "outputs": [
    {
     "name": "stdout",
     "output_type": "stream",
     "text": [
      "stat=0.509, p=0.000\n",
      "Probably not Gaussian\n"
     ]
    }
   ],
   "source": [
    "sp = df[df['BOROUGH'] == 'Bronx']['SALE PRICE']\n",
    "\n",
    "from scipy.stats import shapiro\n",
    "stat, p = shapiro(sp)\n",
    "print('stat=%.3f, p=%.3f' % (stat, p))\n",
    "if p > 0.05:\n",
    "    print('Probably Gaussian')\n",
    "else:\n",
    "    print('Probably not Gaussian')"
   ]
  },
  {
   "cell_type": "markdown",
   "metadata": {},
   "source": [
    "Berdasarkan pengujian hipotesis, didapatkan p-value < 0.05 sehingga sampel tidak berdistribusi Gaussian."
   ]
  },
  {
   "cell_type": "markdown",
   "metadata": {},
   "source": [
    "## Kesimpulan"
   ]
  },
  {
   "cell_type": "markdown",
   "metadata": {},
   "source": [
    "Berdasarkan data yang telah diolah, maka dapat ditarik sebuah kesimpulan sebagai berikut:  \n",
    "- Wilayah `Manhattan` memiliki harga rata-rata penjualan properti tertinggi dibandingkan wilayah lain.\n",
    "- Median tertinggi terdapat pada tax class 2B dan terendah pada tax 1A.\n",
    "- Kategori class bangunan yang paling sering muncul di setiap wilayah adalah `01 ONE FAMILY DWELLINGS`.\n",
    "- Berdasarkan uji hipotesis, didapatkan p-value < 0.05 sehingga sampel tidak berdistribusi Gaussian."
   ]
  }
 ],
 "metadata": {
  "kernelspec": {
   "display_name": "Python 3.10.6 64-bit",
   "language": "python",
   "name": "python3"
  },
  "language_info": {
   "codemirror_mode": {
    "name": "ipython",
    "version": 3
   },
   "file_extension": ".py",
   "mimetype": "text/x-python",
   "name": "python",
   "nbconvert_exporter": "python",
   "pygments_lexer": "ipython3",
   "version": "3.10.6"
  },
  "orig_nbformat": 4,
  "vscode": {
   "interpreter": {
    "hash": "0911b8567460ef29478d83a054b4053fbc01625b351e83c3797f8132ac1cd35a"
   }
  }
 },
 "nbformat": 4,
 "nbformat_minor": 2
}
